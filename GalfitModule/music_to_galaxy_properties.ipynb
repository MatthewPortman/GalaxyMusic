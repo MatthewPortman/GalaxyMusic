{
 "cells": [
  {
   "cell_type": "code",
   "execution_count": 10,
   "id": "4bca0476",
   "metadata": {},
   "outputs": [],
   "source": [
    "def music_to_galaxy_properties(dict_music):\n",
    "    '''\n",
    "    Bb – ‘Magnitude’ [3,25] -> Linearly [0,1] | Set: 15 | Direction: Longer -> Lower Value\n",
    "    F – ‘Eff_Rad’ [0,1] | Set: 0.5 | Direction: Longer -> Higher Value\n",
    "    C – ‘Sersic_Index’ [0,10] (log scaling) | Set: 1.0 | Direction: Longer -> Higher Value\n",
    "    G – ‘Axis_Ratio’ [0.5,1] | Set: 1.0 | Direction: Longer -> Lower Value\n",
    "    D – ‘Pos_Angle’ [0,180] -> [0,1] Sin(theta/2) | Set: 0 | Direction: Longer -> Higher Value\n",
    "    \n",
    "    Returns: \n",
    "        disk: Float, \n",
    "        bulge: Float,\n",
    "        dict_galfit: Dictionary\n",
    "    '''\n",
    "\n",
    "    dict_galfit = {}\n",
    "\n",
    "    if dict_music['M'] == 1:\n",
    "        disk = 1.0\n",
    "        bulge = 0.0\n",
    "\n",
    "    elif dict_music['m'] == 1:\n",
    "        disk = 0.0\n",
    "        bulge = 1.0\n",
    "\n",
    "    def normalize(val, val_max=5.0, val_min=1.0):\n",
    "        '''\n",
    "        Normalizes input duration to [0,1]\n",
    "        '''\n",
    "        norm = (val - val_min)/(val_max - val_min)\n",
    "        return norm\n",
    "\n",
    "    dict_galfit['magnitude'] = (25.-3.)*(1.0 - normalize(dict_music['Bb']))+3.\n",
    "    dict_galfit['effective_radius'] = (1.0 - 0.0)*normalize(dict_music['F'])+ 0.0\n",
    "    dict_galfit['sersic_index'] = (10.0 - 0.0)*normalize(dict_music['C']) + 0.0\n",
    "    dict_galfit['axis_ratio'] = (1 - 0.5)*normalize(dict_music['G']) + 0.5\n",
    "    dict_galfit['position_angle'] = 2*np.arcsin(normalize(dict_music['D']))*180.0/np.pi\n",
    "    \n",
    "    return (disk, bulge, dict_galfit) "
   ]
  },
  {
   "cell_type": "code",
   "execution_count": null,
   "id": "3391fc18",
   "metadata": {},
   "outputs": [],
   "source": []
  }
 ],
 "metadata": {
  "kernelspec": {
   "display_name": "dsfp_music",
   "language": "python",
   "name": "dsfp_music"
  },
  "language_info": {
   "codemirror_mode": {
    "name": "ipython",
    "version": 3
   },
   "file_extension": ".py",
   "mimetype": "text/x-python",
   "name": "python",
   "nbconvert_exporter": "python",
   "pygments_lexer": "ipython3",
   "version": "3.11.0"
  }
 },
 "nbformat": 4,
 "nbformat_minor": 5
}
