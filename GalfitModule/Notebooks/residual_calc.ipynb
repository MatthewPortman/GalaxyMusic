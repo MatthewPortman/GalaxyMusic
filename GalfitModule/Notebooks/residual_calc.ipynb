{
 "cells": [
  {
   "cell_type": "code",
   "execution_count": 2,
   "id": "c4247750-5fc9-4be0-8102-06041cdb7c97",
   "metadata": {},
   "outputs": [],
   "source": [
    "#!pip3 install --user astropy"
   ]
  },
  {
   "cell_type": "code",
   "execution_count": 3,
   "id": "b52e7e30-ac63-4d4d-ab53-0ffccd0f38a9",
   "metadata": {
    "tags": []
   },
   "outputs": [],
   "source": [
    "os.environ[\"SPARCFIRE_HOME\"] = \"/home/portmanm/sparcfire_matt/\""
   ]
  },
  {
   "cell_type": "code",
   "execution_count": 3,
   "id": "58b85295-242d-405b-ba3a-260bf8f72535",
   "metadata": {},
   "outputs": [],
   "source": [
    "import numpy as np\n",
    "import astropy as ap\n",
    "import pandas as pd\n",
    "from astropy.io import fits\n",
    "import scipy.linalg as slg\n",
    "from scipy.stats import norm\n",
    "from math import ceil\n",
    "\n",
    "import plotly.express as px\n",
    "import plotly.graph_objects as go\n",
    "from plotly.subplots import make_subplots\n",
    "\n",
    "import matplotlib.pyplot as plt\n",
    "import matplotlib.colors as colors\n",
    "from matplotlib.colors import LinearSegmentedColormap\n",
    "import glob\n",
    "import os\n",
    "# These are in Functions\n",
    "from os.path import join as pj\n",
    "# from os.path import abspath as absp\n",
    "\n",
    "from IPython.display import Image\n",
    "from IPython.display import display\n",
    "\n",
    "from joblib import Parallel, delayed\n",
    "\n",
    "import PIL\n",
    "import pickle\n",
    "\n",
    "import sys\n",
    "os.environ[\"SPARCFIRE_HOME\"] = \"/home/portmanm/sparcfire_matt/\"\n",
    "\n",
    "_HOME_DIR = os.path.expanduser(\"~\")\n",
    "try:\n",
    "    _SPARCFIRE_DIR = os.environ[\"SPARCFIRE_HOME\"]\n",
    "    _MODULE_DIR = pj(_SPARCFIRE_DIR, \"GalfitModule\")\n",
    "except KeyError:\n",
    "    # print(\"SPARCFIRE_HOME is not set. Please run 'setup.bash' inside SpArcFiRe directory if not done so already.\")\n",
    "    # print(\"Running on the assumption that GalfitModule is in your home directory... (if not this will fail and quit!)\") \n",
    "    _MODULE_DIR = pj(_HOME_DIR, \"GalfitModule\")\n",
    "    \n",
    "sys.path.append(_MODULE_DIR)\n",
    "from Classes.Components import *\n",
    "from Classes.Containers import *\n",
    "from Classes.FitsHandlers import *\n",
    "from Functions.helper_functions import *"
   ]
  },
  {
   "cell_type": "code",
   "execution_count": 4,
   "id": "3b3c4db0-3ca5-4d59-8327-472ccb8980b6",
   "metadata": {},
   "outputs": [],
   "source": [
    "#run_path2 = \"/home/portmanm/run2_1000_galfit\"\n",
    "#run_path7 = \"/home/portmanm/run7_1000_galfit_three_fit\"\n",
    "#run_path3 = \"/home/portmanm/run3_1000_galfit_psf\"\n",
    "run_path = os.getcwd()\n",
    "if in_notebook():\n",
    "    run_path = run_path.replace(\"ics-home\", \"portmanm\")\n",
    "    \n",
    "in_dir = pj(_HOME_DIR, \"29k_galaxies_obs\")\n",
    "run_dir = pj(_HOME_DIR, \"29k_galaxies\")\n",
    "out_dir = \"sparcfire-out\"\n",
    "tmp_dir = \"sparcfire-tmp\"\n",
    "galfits_tmp = \"galfits\"\n",
    "galfit_masks = \"galfit_masks\"\n",
    "#galfit_out = \"all_galfit_out\"\n",
    "nmr = \"norm_masked_residual\""
   ]
  },
  {
   "cell_type": "code",
   "execution_count": 5,
   "id": "de93171e-4ad6-4e16-acd3-8c302cb5d8b0",
   "metadata": {},
   "outputs": [],
   "source": [
    "def check_galfit_chi(gal_name, base_path):\n",
    "    # An example line\n",
    "    # # Chi^2/nu = 4.661,  Chi^2 = 12025.575,  Ndof = 2580\n",
    "    \n",
    "    #galfit_txt_out = \"galfit.01\" # in the future galfit.01 may change\n",
    "    filename = os.path.join(base_path, gal_name, galfit_txt_out)\n",
    "    with open(filename, \"r\") as f:\n",
    "        for line in f:\n",
    "            if \"Chi\" in line:\n",
    "                chi_line = line.strip(\"# \")\n",
    "    \n",
    "    # This also works but it's quite devious...\n",
    "    # chi_line.replace(\"^\", \"\").replace(\"/\", \"_\").replace(\",  \", \"\\n\").lower()\n",
    "    # exec(chi_line)\n",
    "    \n",
    "    out_vals = chi_line.split(\",\")\n",
    "    chi2_nu = float(out_vals[0].strip().split(\"=\")[-1])\n",
    "    chi2 = float(out_vals[1].strip().split(\"=\")[-1])\n",
    "    ndof = int(out_vals[2].strip().split(\"=\")[-1])\n",
    "    \n",
    "    return chi2_nu, chi2, ndof"
   ]
  },
  {
   "cell_type": "code",
   "execution_count": 39,
   "id": "8376a423-ffba-4a03-a57a-d31453555a67",
   "metadata": {
    "tags": []
   },
   "outputs": [],
   "source": [
    "# def fill_objects(in_tuple):\n",
    "#     gname  = in_tuple[0]\n",
    "#     fitspath = in_tuple[1]\n",
    "#     # if gname in output_fits_dict and gname in mask_dict:\n",
    "#     #     continue\n",
    "\n",
    "# #     if not count % 1000:\n",
    "# #         print(gname)\n",
    "\n",
    "#     star_mask_name = f\"{gname}_star-rm.fits\"\n",
    "#     galfit_mask_path  = \"/home/portmanm/29k_galaxies/sparcfire-tmp/galfit_masks\"\n",
    "#     mask_fits_name = pj(galfit_mask_path, star_mask_name)\n",
    "\n",
    "#     fits_file = OutputFits(fitspath)\n",
    "#     mask_fits_file = FitsFile(mask_fits_name)\n",
    "#     masked_residual_normalized = fits_file.generate_masked_residual(mask_fits_file)\n",
    "#     if masked_residual_normalized is None:\n",
    "#         return None, None\n",
    "    \n",
    "#     return fits_file.nmr\n",
    "\n",
    "#     # output_fits_dict[gname] = fits_file\n",
    "#     # mask_dict[gname] = mask_fits_file"
   ]
  },
  {
   "cell_type": "code",
   "execution_count": null,
   "id": "0f4c85ce-d9da-4d18-a46c-b62f22b19c41",
   "metadata": {},
   "outputs": [],
   "source": [
    "# From the parallelized version for future reference\n",
    "#  def fill_objects(in_tuple):\n",
    "#     gname  = in_tuple[0]\n",
    "#     fitspath = in_tuple[1]\n",
    "#     count = in_tuple[2]\n",
    "    \n",
    "#     galfit_mask_path = \"/home/portmanm/29k_galaxies/sparcfire-tmp/galfit_masks\"\n",
    "#     # if gname in output_fits_dict and gname in mask_dict:\n",
    "#     #     continue\n",
    "\n",
    "#     if not count % 1000:\n",
    "#         print(count, gname)\n",
    "\n",
    "#     star_mask_name = f\"{gname}_star-rm.fits\"\n",
    "#     mask_fits_name = pj(galfit_mask_path, star_mask_name)\n",
    "\n",
    "#     try:\n",
    "#         fits_file = OutputFits(fitspath)\n",
    "#         mask_fits_file = FitsFile(mask_fits_name)\n",
    "#     except Exception:\n",
    "#         return None, None\n",
    "    \n",
    "#     masked_residual_normalized = fits_file.generate_masked_residual(mask_fits_file)\n",
    "#     if masked_residual_normalized is None:\n",
    "#         return None, None\n",
    "    \n",
    "#     fits_file.to_png(out_png_dir = \"/home/portmanm/29k_galaxies/sparcfire-out/galfit_png\")\n",
    "    \n",
    "#     return gname, fits_file.nmr\n",
    "\n",
    "#     # output_fits_dict[gname] = fits_file\n",
    "#     # mask_dict[gname] = mask_fits_file\n",
    "# # ==================================================================================================================\n",
    "\n",
    "# # TODO chunk this up via slurm\n",
    "# if __name__ == \"__main__\":\n",
    "\n",
    "#     output_fits_dict = {}\n",
    "    \n",
    "#     outpath = pj(run_dir, out_dir)\n",
    "#     total_gal = len(glob.glob(pj(outpath, \"/123*/\")))\n",
    "\n",
    "#     galfit_tmp_path = pj(run_dir, tmp_dir, galfits_tmp) \n",
    "#     galfit_mask_path  = pj(run_dir, tmp_dir, galfit_masks)\n",
    "#     all_out = [(os.path.basename(i).rstrip(\"_galfit_out.fits\") , i, count) for count, i in enumerate(glob.glob(pj(galfit_tmp_path, \"*_galfit_out.fits\"))) if i not in output_fits_dict]\n",
    "\n",
    "#     # print(os.path.join(temppath, \"*_out.fits\"))\n",
    "#     # print(glob.glob(os.path.join(temppath, \"*_out.fits\")))\n",
    "#     # for (gname, fitspath, count) in all_out:\n",
    "#     #     output_fits_dict[gname] = fill_objects((gname, fitspath, count))\n",
    "#     out_nmr = Parallel(n_jobs = -2, timeout = 30)(map(delayed(fill_objects), all_out))\n",
    "    \n",
    "#     # for (gname, nmr) in out_nmr:\n",
    "#     #     output_fits_dict[gname] = nmr\n",
    "#         # if not count % 1000:\n",
    "#         #     print(count, gname)\n",
    "    \n",
    "#     pickle_filename = 'output_nmr.pkl'\n",
    "#     pickle.dump(out_nmr, open(pickle_filename, 'wb'))\n",
    "    \n",
    "#     #output_fits_dict = dict(zip(out_nmr))"
   ]
  },
  {
   "cell_type": "code",
   "execution_count": 7,
   "id": "c7c0800a-37b9-475b-98a3-cb2b76b72148",
   "metadata": {
    "tags": []
   },
   "outputs": [],
   "source": [
    "output_fits_dict = {}\n",
    "#mask_dict = {}"
   ]
  },
  {
   "cell_type": "code",
   "execution_count": 8,
   "id": "c56df926-18a4-4445-8356-cc0cd12e7258",
   "metadata": {
    "tags": []
   },
   "outputs": [],
   "source": [
    "# outpath = pj(run_dir, out_dir)\n",
    "# total_gal = len(glob.glob(pj(outpath, \"/123*/\")))\n",
    "\n",
    "# galfit_tmp_path = pj(run_dir, tmp_dir, galfits_tmp) \n",
    "# galfit_mask_path  = pj(run_dir, tmp_dir, galfit_masks)\n",
    "# all_out = [(os.path.basename(i).rstrip(\"_galfit_out.fits\") , i) for i in glob.glob(pj(galfit_tmp_path, \"*_galfit_out.fits\")) if i not in output_fits_dict]"
   ]
  },
  {
   "cell_type": "code",
   "execution_count": 5,
   "id": "849e5f7f-501c-4bec-b943-524aa84fd1d4",
   "metadata": {
    "tags": []
   },
   "outputs": [],
   "source": [
    "pickle_filename = 'output_nmr.pkl'"
   ]
  },
  {
   "cell_type": "code",
   "execution_count": 10,
   "id": "835b68c6-bcec-4945-853c-56066b486577",
   "metadata": {
    "tags": []
   },
   "outputs": [],
   "source": [
    "# pickle.dump(output_fits_dict, open('output_nmr.pkl', 'wb'))"
   ]
  },
  {
   "cell_type": "code",
   "execution_count": 6,
   "id": "7824dc06-5dba-4031-ac0d-00bea83bf425",
   "metadata": {
    "tags": []
   },
   "outputs": [],
   "source": [
    "output_fits_nmr = dict(pickle.load(open(pickle_filename, 'rb')))"
   ]
  },
  {
   "cell_type": "code",
   "execution_count": 7,
   "id": "154bb993-1a7e-45eb-9016-7d9608709180",
   "metadata": {
    "tags": []
   },
   "outputs": [],
   "source": [
    "norms_df = pd.DataFrame.from_dict(output_fits_nmr, orient = 'index', columns = [nmr])"
   ]
  },
  {
   "cell_type": "code",
   "execution_count": 8,
   "id": "3ed831db-7cb3-4dc2-b88f-551ed0a72622",
   "metadata": {
    "tags": []
   },
   "outputs": [],
   "source": [
    "norms_df = norms_df.query(f\"{nmr} < 1\")"
   ]
  },
  {
   "cell_type": "code",
   "execution_count": 9,
   "id": "0edc79d3-4bb0-43de-b4e9-84f203325118",
   "metadata": {
    "tags": []
   },
   "outputs": [],
   "source": [
    "# norms2_df = norms2_df.sort_values(by=[nmr]) #, inplace=True)\n",
    "# norms6_df = norms6_df.sort_values(by=[nmr]) #, inplace=True)\n",
    "norms_df = norms_df.sort_values(by=[nmr]) #, inplace=True)"
   ]
  },
  {
   "cell_type": "code",
   "execution_count": 10,
   "id": "a8f1523e-e047-4942-b9b0-321228ccbc87",
   "metadata": {
    "tags": []
   },
   "outputs": [],
   "source": [
    "# nmr2_lim = norms2_df[norms2_df.norm_masked_residual < 0.01]\n",
    "# nmr6_lim = norms6_df[norms6_df.norm_masked_residual < 0.01]\n",
    "nmr_lim = norms_df[norms_df.norm_masked_residual < 0.02]"
   ]
  },
  {
   "cell_type": "code",
   "execution_count": 11,
   "id": "7b05da4f-246c-40a9-946d-170ce42e2dd0",
   "metadata": {
    "tags": []
   },
   "outputs": [],
   "source": [
    "# run2_name = \" Bulge+Disk+Arms\"\n",
    "# run6_name = \" Bulge, Disk+Arms\"\n",
    "# run7_name = \" Bulge, Bulge+Disk, Bulge+Disk+Arms\"\n",
    "run_name = \"29k Galaxies\""
   ]
  },
  {
   "cell_type": "code",
   "execution_count": 12,
   "id": "484f3c40-dbb8-48d2-85e5-3cb5f636f73f",
   "metadata": {
    "tags": []
   },
   "outputs": [],
   "source": [
    "graphing_df = pd.DataFrame()\n",
    "# graphing_df[run2_name] = nmr2_lim[nmr]\n",
    "# graphing_df[run6_name] = nmr6_lim[nmr]\n",
    "graphing_df[run_name] = nmr_lim[nmr]"
   ]
  },
  {
   "cell_type": "code",
   "execution_count": 13,
   "id": "03d0a090-fa6b-46cb-aac7-c6cbc3f9bd7f",
   "metadata": {
    "tags": []
   },
   "outputs": [],
   "source": [
    "#graphing_df = graphing_df.melt(id_vars = [], value_vars = [run2_name, run6_name], var_name = \"Run \", value_name = nmr, ignore_index = False)\n",
    "graphing_df = graphing_df.melt(id_vars = [], value_vars = [run_name], var_name = \"Run \", value_name = nmr, ignore_index = False)"
   ]
  },
  {
   "cell_type": "code",
   "execution_count": null,
   "id": "1f22bc6d-4645-499a-9f7e-1cb63ea6fb92",
   "metadata": {
    "tags": []
   },
   "outputs": [],
   "source": [
    "fig = px.ecdf(graphing_df, \n",
    "              x = nmr, \n",
    "              markers = True, \n",
    "              lines = False, \n",
    "              #facet_col = \"Run \", \n",
    "              marginal = \"histogram\") #, facet_col_wrap = 1) # \n",
    "\n",
    "yval = 0.75\n",
    "fig.add_hline(y = yval, \n",
    "              row = 1,\n",
    "              col = 1,\n",
    "              line_color = \"magenta\",\n",
    "              annotation_text=f\"{yval}\", #from Run7\", \n",
    "              annotation_position=\"left\")\n",
    "\n",
    "# fig.add_hline(y = 0.69,\n",
    "#               row = 1,\n",
    "#               col = 2,\n",
    "#               line_color = \"cyan\",\n",
    "#               annotation_text=\"0.78\", # from Run6\", \n",
    "#               annotation_position=\"right\")\n",
    "\n",
    "cutoff_val = 0.009\n",
    "fig.add_vline(x = cutoff_val, \n",
    "              row = 1,\n",
    "              line_color = \"black\",\n",
    "              annotation_text= f\"{cutoff_val}\", \n",
    "              annotation_position=\"bottom\")\n",
    "\n",
    "# fig.add_trace(go.Scatter(x = np.ones(len(nmr2_lim))*0.004, y = np.linspace(0,1,num = len(nmr2_lim)), mode = \"lines\"))\n",
    "# fig.add_trace(go.Scatter(x = np.linspace(0.002, 0.01, num = len(nmr2_lim)), y = np.ones(len(nmr2_lim))*0.75, mode = \"lines\"))\n",
    "\n",
    "# fig.add_trace(go.Scatter(x = np.ones(len(nmr2_lim))*0.004, y = np.linspace(0,1,num = len(nmr2_lim))))\n",
    "# fig.add_trace(go.Scatter(x = np.linspace(0.002, 0.01, num = len(nmr2_lim)), y = np.ones(len(nmr2_lim))*0.75))\n",
    "\n",
    "\n",
    "fig.show()"
   ]
  },
  {
   "cell_type": "code",
   "execution_count": 207,
   "id": "265fa1cc-7035-4a6e-aab4-6beb01b730ba",
   "metadata": {
    "tags": []
   },
   "outputs": [],
   "source": [
    "#print(norms_df.iloc[:10])"
   ]
  },
  {
   "cell_type": "code",
   "execution_count": 23,
   "id": "4c479156-93ba-4251-b957-7e65a2802e58",
   "metadata": {
    "tags": []
   },
   "outputs": [],
   "source": [
    "total_gal = len(glob.glob(pj(out_dir, \"123*/\")))"
   ]
  },
  {
   "cell_type": "code",
   "execution_count": 24,
   "id": "a9534029-9ffc-4c42-87ef-11458b2a8a20",
   "metadata": {},
   "outputs": [
    {
     "name": "stdout",
     "output_type": "stream",
     "text": [
      "Total number of galaxies attempted: 28874\n",
      "\n",
      "Number of Galfit models generated...\n",
      "29k Galaxies: 28038/28874, 97.10%\n",
      "\n",
      "Residuals below 0.0085 cutoff (excluding failures)...\n",
      "29k Galaxies: 18794/26697, 70.40%\n"
     ]
    }
   ],
   "source": [
    "#print(len(test_list), len(norms), 717/809*100)\n",
    "#cutoff_val = 0.009\n",
    "# run2_name = run2_name.strip()\n",
    "# run6_name = run6_name.strip()\n",
    "run_name = run_name.strip()\n",
    "\n",
    "print(f\"Total number of galaxies attempted: {total_gal}\")\n",
    "print()\n",
    "print(f\"Number of Galfit models generated...\")\n",
    "#print(f\"{run2_name} : {len(norms2_df)}/{total_gal}\")\n",
    "#print(f\"{run6_name}: {len(norms6_df)}/{total_gal}\")\n",
    "print(f\"{run_name}: {len(norms_df)}/{total_gal}, {100*len(norms_df)/total_gal:.2f}%\")\n",
    "\n",
    "# cutoff2 = norms2_df.query(f\"{nmr} < {cutoff_val}\")\n",
    "# cutoff6 = norms6_df.query(f\"{nmr} < {cutoff_val}\")\n",
    "cutoff = norms_df.query(f\"{nmr} < {cutoff_val}\")\n",
    "print()\n",
    "print(f\"Residuals below {cutoff_val} cutoff (excluding failures)...\")\n",
    "# print(f\"{run2_name} : {len(cutoff2)}/{len(norms2_df)}, {100*len(cutoff2)/len(norms2_df):.2f}%\")\n",
    "# print(f\"{run6_name}: {len(cutoff6)}/{len(norms6_df)}, {100*len(cutoff6)/len(norms6_df):.2f}%\")\n",
    "print(f\"{run_name}: {len(cutoff)}/{len(graphing_df)}, {100*len(cutoff)/len(graphing_df):.2f}%\")"
   ]
  },
  {
   "cell_type": "code",
   "execution_count": 25,
   "id": "ebd73b55-2bc5-46a9-9d47-16f472f03d31",
   "metadata": {
    "tags": []
   },
   "outputs": [],
   "source": [
    "def generate_images(input_df, png_dir:str, cutoff_val = 0.01, custom_range = None):\n",
    "    images_below_cutoff = []\n",
    "    images_above_cutoff = []\n",
    "    \n",
    "    if not custom_range:\n",
    "        custom_range = range(0, len(input_df), 1000) \n",
    "    \n",
    "    for index_num in custom_range:\n",
    "        g_nmr = input_df.iloc[index_num]\n",
    "        gname = g_nmr.name\n",
    "        nmr = g_nmr.norm_masked_residual\n",
    "\n",
    "        # iloc returns a series, name returns the name of the row\n",
    "\n",
    "        \n",
    "        # print(f\"chi^2/nu = {galaxy_info['chi^2_nu']:.2f}\")\n",
    "        # print(f\"chi^2 = {galaxy_info['chi^2']:.2f}\")\n",
    "        print(f\"{gname}, sorted #: {index_num}\")\n",
    "        print(f\"Norm masked residual = {nmr:.6f}\")\n",
    "        #print(f\"Dim: {galaxy_info['image_size']}x{galaxy_info['image_size']}\")\n",
    "        print()\n",
    "        #print(f\"Norm GALFIT residual = {norm_galfit_residual:.4f}\")\n",
    "\n",
    "\n",
    "        # galfit_cmap = grayscale_cmap('RdBu')\n",
    "        # residual_plot = plt.imshow(np.flipud(masked_residual[:,:])) #, norm=colors.LogNorm())\n",
    "        # residual_plot.set_cmap('Greys')\n",
    "        # residual_plot.set_cmap(galfit_cmap)\n",
    "        # cbar = plt.colorbar()\n",
    "\n",
    "        #plt.imshow(residual_plot)\n",
    "        #imgplot = plt.imshow(arr[:, :, 0])\n",
    "        height = 500\n",
    "        width = 500\n",
    "        size = (height, width)\n",
    "        #out_str = galaxy_info.name.replace(\"galfit_out.fits\", \"combined.png\").strip()\n",
    "        out_str = f\"{gname}_combined.png\"\n",
    "        #print(out_str)\n",
    "        if nmr < cutoff_val:\n",
    "            images_below_cutoff.append(Image(filename = pj(png_dir, out_str), width=width, height=height))\n",
    "            #images_below_cutoff.append(PIL.Image.open(pj(png_dir, out_str)).resize(size))\n",
    "        else:\n",
    "            images_above_cutoff.append(Image(filename = pj(png_dir, out_str), width=width, height=height))\n",
    "            #images_above_cutoff.append(PIL.Image.open(pj(png_dir, out_str)).resize(size))\n",
    "            \n",
    "    return images_below_cutoff, images_above_cutoff"
   ]
  },
  {
   "cell_type": "code",
   "execution_count": 26,
   "id": "89039c2b-6a01-42be-bcbe-81761311a07c",
   "metadata": {},
   "outputs": [
    {
     "name": "stdout",
     "output_type": "stream",
     "text": [
      "1237665126947946810, sorted #: 0\n",
      "Norm masked residual = 0.004162\n",
      "\n",
      "1237665534930780400, sorted #: 1000\n",
      "Norm masked residual = 0.005121\n",
      "\n",
      "1237667253477048374, sorted #: 2000\n",
      "Norm masked residual = 0.005356\n",
      "\n",
      "1237662224627532068, sorted #: 3000\n",
      "Norm masked residual = 0.005534\n",
      "\n",
      "1237668589726924953, sorted #: 4000\n",
      "Norm masked residual = 0.005690\n",
      "\n",
      "1237665231059419614, sorted #: 5000\n",
      "Norm masked residual = 0.005841\n",
      "\n",
      "1237661971720306849, sorted #: 6000\n",
      "Norm masked residual = 0.005983\n",
      "\n",
      "1237658298990330044, sorted #: 7000\n",
      "Norm masked residual = 0.006117\n",
      "\n",
      "1237668311623860475, sorted #: 8000\n",
      "Norm masked residual = 0.006253\n",
      "\n",
      "1237657628454551672, sorted #: 9000\n",
      "Norm masked residual = 0.006397\n",
      "\n",
      "1237667322178568329, sorted #: 10000\n",
      "Norm masked residual = 0.006551\n",
      "\n",
      "1237661068182814979, sorted #: 11000\n",
      "Norm masked residual = 0.006712\n",
      "\n",
      "1237666299480047786, sorted #: 12000\n",
      "Norm masked residual = 0.006875\n",
      "\n",
      "1237664853113110825, sorted #: 13000\n",
      "Norm masked residual = 0.007060\n",
      "\n",
      "1237662636913656285, sorted #: 14000\n",
      "Norm masked residual = 0.007252\n",
      "\n",
      "1237662264852414638, sorted #: 15000\n",
      "Norm masked residual = 0.007464\n",
      "\n",
      "1237660937702801576, sorted #: 16000\n",
      "Norm masked residual = 0.007691\n",
      "\n",
      "1237664289934606511, sorted #: 17000\n",
      "Norm masked residual = 0.007949\n",
      "\n",
      "1237665428091175035, sorted #: 18000\n",
      "Norm masked residual = 0.008236\n",
      "\n",
      "1237668272432480451, sorted #: 19000\n",
      "Norm masked residual = 0.008579\n",
      "\n",
      "1237665566076240061, sorted #: 20000\n",
      "Norm masked residual = 0.008960\n",
      "\n",
      "1237648722294145119, sorted #: 21000\n",
      "Norm masked residual = 0.009416\n",
      "\n",
      "1237653587405045814, sorted #: 22000\n",
      "Norm masked residual = 0.009992\n",
      "\n",
      "1237662238022959332, sorted #: 23000\n",
      "Norm masked residual = 0.010704\n",
      "\n",
      "1237657220410703967, sorted #: 24000\n",
      "Norm masked residual = 0.011655\n",
      "\n",
      "1237664834852552731, sorted #: 25000\n",
      "Norm masked residual = 0.013075\n",
      "\n",
      "1237664853113765927, sorted #: 26000\n",
      "Norm masked residual = 0.015899\n",
      "\n",
      "1237661971192545306, sorted #: 27000\n",
      "Norm masked residual = 0.023638\n",
      "\n",
      "1237660342863069290, sorted #: 28000\n",
      "Norm masked residual = 0.326189\n",
      "\n"
     ]
    }
   ],
   "source": [
    "# https://stackoverflow.com/questions/32370281/how-to-embed-image-or-picture-in-jupyter-notebook-either-from-a-local-machine-o\n",
    "# Could also be useful https://eltos.github.io/gradient/#FFFFFF-A5A5A5-000000-A5A5A5-FFFFFF\n",
    "# png_dir6 = os.path.join(run_path6, sparc_out, galfit_out, \"galfit_png/\")\n",
    "# images_below_cutoff, images_above_cutoff = generate_images(norms6_df, png_dir6, cutoff = 0.1)\n",
    "png_dir = os.path.join(run_path, out_dir, \"galfit_png\")\n",
    "#images_below_cutoff, images_above_cutoff = generate_images(norms7_df, png_dir7, cutoff = 0.8)\n",
    "below, above = generate_images(norms_df, png_dir, cutoff_val = cutoff_val)#, custom_range = range(0, 30))"
   ]
  },
  {
   "cell_type": "code",
   "execution_count": 37,
   "id": "f38c4150-e773-40e1-8089-dbf60bf5d25a",
   "metadata": {
    "tags": []
   },
   "outputs": [
    {
     "name": "stdout",
     "output_type": "stream",
     "text": [
      "R0) power               # PA rotation func. (power, log, none)\n",
      "R1) 0.0000      0       # Spiral inner radius [pixels]\n",
      "R2) 9.2383      0       # Spiral outer radius [pixels]\n",
      "R3) -21.5247    1       # Cumul. rotation out to outer radius [degrees]\n",
      "R4) 14.5168     1       # Asymptotic spiral powerlaw\n",
      "R9) -70.7128    1       # Inclination to L.o.S. [degrees]\n",
      "R10) 147.6792    1      # Sky position angle\n",
      "\n"
     ]
    }
   ],
   "source": [
    "gname = \"1237665566076240061\"\n",
    "gname_fits = OutputFits(pj(out_dir, gname, gname + \"_galfit_out.fits\"))\n",
    "print(gname_fits.feedme.arms)"
   ]
  },
  {
   "cell_type": "code",
   "execution_count": null,
   "id": "c527023c-eec7-473c-b3b3-9f7bc51169b9",
   "metadata": {
    "tags": []
   },
   "outputs": [],
   "source": [
    "display(*below)"
   ]
  },
  {
   "cell_type": "code",
   "execution_count": null,
   "id": "10614ab0-ede7-400a-949c-09524e3e196d",
   "metadata": {
    "tags": []
   },
   "outputs": [],
   "source": [
    "display(*above)"
   ]
  },
  {
   "cell_type": "code",
   "execution_count": null,
   "id": "dc3961c5-5b8a-477e-9362-5ce1b84da6a8",
   "metadata": {
    "tags": []
   },
   "outputs": [],
   "source": [
    "size_sorted2 = norms2_df.sort_values(by=['image_size'])[::-1]\n",
    "size_sorted6 = norms6_df.sort_values(by=['image_size'])[::-1]"
   ]
  },
  {
   "cell_type": "code",
   "execution_count": null,
   "id": "ee484e55-0629-4aad-8a3c-7e9338bad260",
   "metadata": {
    "tags": []
   },
   "outputs": [],
   "source": [
    "png_dir2 = os.path.join(run_path2, sparc_out, galfit_out, \"galfit_png/\")\n",
    "top_10_by_size2, _ = generate_images(size_sorted2, png_dir2, cutoff = 0.004, custom_range = range(10))\n",
    "print(\"=============================================\\n\")\n",
    "top_10_by_size6, _ = generate_images(size_sorted6, png_dir6, cutoff = 0.004, custom_range = range(10))"
   ]
  },
  {
   "cell_type": "code",
   "execution_count": null,
   "id": "64a0261c-c0e1-4d0e-8daa-58fdcc37c7b2",
   "metadata": {
    "tags": []
   },
   "outputs": [],
   "source": [
    "display(*top_10_by_size6)"
   ]
  },
  {
   "cell_type": "code",
   "execution_count": null,
   "id": "c5eee076-c81c-4cc4-bd36-ea21bac4f20a",
   "metadata": {},
   "outputs": [],
   "source": [
    "# Grab top 1000 highest resolution galaxies from Darren's 27K and run this on those\n",
    "# Change pitch angle plotting to only plot sparcfire's line between r_in and r_out and see how that compare to galfit\n",
    "# Tile residuals for presentation???"
   ]
  },
  {
   "cell_type": "code",
   "execution_count": null,
   "id": "13e075be-9f7e-4901-9c7c-a364497be181",
   "metadata": {},
   "outputs": [],
   "source": [
    "# Thanks to https://jakevdp.github.io/PythonDataScienceHandbook/04.07-customizing-colorbars.html\n",
    "def grayscale_cmap(cmap):\n",
    "    \"\"\"Return a grayscale version of the given colormap\"\"\"\n",
    "    cmap = plt.cm.get_cmap(cmap)\n",
    "    colors = cmap(np.arange(cmap.N))\n",
    "    \n",
    "    # convert RGBA to perceived grayscale luminance\n",
    "    # cf. http://alienryderflex.com/hsp.html\n",
    "    RGB_weight = [0.299, 0.587, 0.114]\n",
    "    luminance = np.sqrt(np.dot(colors[:, :3] ** 2, RGB_weight))\n",
    "    colors[:, :3] = luminance[:, np.newaxis]\n",
    "        \n",
    "    return LinearSegmentedColormap.from_list(cmap.name + \"_gray\", colors, cmap.N)"
   ]
  },
  {
   "cell_type": "raw",
   "id": "0d6a55c7-7464-492c-a61f-7275c3f53cbc",
   "metadata": {},
   "source": [
    "with open(\"top_500.txt\", \"w\") as f:\n",
    "    for i in range(0,500):\n",
    "        galaxy_info = norms_df.iloc[i]\n",
    "        galaxy_out_name = galaxy_info.name.replace(\"out.fits\", \"combined.png\")\n",
    "        f.write(galaxy_out_name)\n",
    "        f.write(\"\\n\")\n",
    "        \n",
    "with open(\"bot_500.txt\", \"w\") as f:\n",
    "    for i in range(500,len(norms_df)):\n",
    "        galaxy_info = norms_df.iloc[i]\n",
    "        galaxy_out_name = galaxy_info.name.replace(\"out.fits\", \"combined.png\")\n",
    "        f.write(galaxy_out_name)\n",
    "        f.write(\"\\n\")"
   ]
  }
 ],
 "metadata": {
  "kernelspec": {
   "display_name": "Python 3 (ipykernel)",
   "language": "python",
   "name": "python3"
  },
  "language_info": {
   "codemirror_mode": {
    "name": "ipython",
    "version": 3
   },
   "file_extension": ".py",
   "mimetype": "text/x-python",
   "name": "python",
   "nbconvert_exporter": "python",
   "pygments_lexer": "ipython3",
   "version": "3.10.9"
  }
 },
 "nbformat": 4,
 "nbformat_minor": 5
}
