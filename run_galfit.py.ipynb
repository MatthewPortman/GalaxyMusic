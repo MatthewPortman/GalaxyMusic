{
 "cells": [
  {
   "cell_type": "code",
   "execution_count": 1,
   "id": "adb4d691",
   "metadata": {},
   "outputs": [],
   "source": [
    "import sys\n",
    "import os\n",
    "from os.path import join as pj\n",
    "# from os.path import exists\n",
    "\n",
    "_HOME_DIR = os.path.expanduser(\"~\")    \n",
    "\n",
    "try:\n",
    "    _SPARCFIRE_DIR = os.environ[\"SPARCFIRE_HOME\"]\n",
    "    _MODULE_DIR = pj(_SPARCFIRE_DIR, \"GalaxyMusic\", \"GalfitModule\")\n",
    "except KeyError:\n",
    "    # print(\"SPARCFIRE_HOME is not set. Please run 'setup.bash' inside SpArcFiRe directory if not done so already.\")\n",
    "    # print(\"Running on the assumption that GalfitModule is in your home directory... (if not this will fail and quit!)\") \n",
    "    _MODULE_DIR = pj(_HOME_DIR, \"GalaxyMusic\", \"GalfitModule\")\n",
    "    \n",
    "sys.path.append(_MODULE_DIR)\n",
    "    \n",
    "from Classes.Components import *\n",
    "from Classes.Containers import *\n",
    "from Functions.helper_functions import *\n",
    "from sparc_to_galfit_feedme_gen import *"
   ]
  },
  {
   "cell_type": "code",
   "execution_count": 2,
   "id": "fd948967",
   "metadata": {},
   "outputs": [],
   "source": [
    "from astropy.io import fits\n",
    "from astropy.table import Table\n",
    "from shutil import copy2"
   ]
  },
  {
   "cell_type": "code",
   "execution_count": 59,
   "id": "0360b17e",
   "metadata": {},
   "outputs": [],
   "source": [
    "# outside loop\n",
    "g_prefix = \"galaxy\"\n",
    "g_number = 0\n",
    "\n",
    "IN_DIR  = pj(_HOME_DIR, \"GalaxyMusic\", \"music-in\")\n",
    "TMP_DIR = pj(_HOME_DIR, \"GalaxyMusic\", \"music-tmp\")\n",
    "OUT_DIR = pj(_HOME_DIR, \"GalaxyMusic\", \"music-out\")\n",
    "\n",
    "run_galfit = pj(_MODULE_DIR, \"galfit\")\n",
    "\n",
    "\n",
    "# in loop\n",
    "gname = f\"{g_prefix}_{g_number}\"\n",
    "filename = f\"{pj(IN_DIR, gname)}.fits\"\n",
    "template = pj(_MODULE_DIR, \"template.fits\")\n",
    "sp(f\"cp {template} {filename}\")\n",
    "#gen_template(filename)\n",
    "\n",
    "if not exists(pj(OUT_DIR, gname)):\n",
    "    os.mkdir(pj(OUT_DIR, gname))\n",
    "    \n",
    "feedme = pj(OUT_DIR, gname, f\"{gname}.in\")\n",
    "galaxy_feedme = FeedmeContainer(path_to_feedme = feedme)\n",
    "\n",
    "galaxy_feedme.header.param_values.update({\n",
    "    \"input_image\"  : filename,\n",
    "    \"output_image\" : pj(OUT_DIR, gname, f\"{gname}.fits\"),\n",
    "    \"optimize\"     : 1,\n",
    "    \"region_to_fit\" : (0,148,0,148)\n",
    "    }\n",
    ")\n",
    "\n",
    "galaxy_feedme.bulge.param_values.update(new)\n",
    "galaxy_feedme.disk.param_values.update(new)\n",
    "\n",
    "galaxy_feedme.update_components(bulge = bulge, disk = disk)\n",
    "\n",
    "#print(galaxy_feedme)\n",
    "_ = sp(f\"{run_galfit} {feedme}\")"
   ]
  },
  {
   "cell_type": "code",
   "execution_count": null,
   "id": "4ed6df9c",
   "metadata": {},
   "outputs": [],
   "source": []
  }
 ],
 "metadata": {
  "kernelspec": {
   "display_name": "Python 3 (ipykernel)",
   "language": "python",
   "name": "python3"
  },
  "language_info": {
   "codemirror_mode": {
    "name": "ipython",
    "version": 3
   },
   "file_extension": ".py",
   "mimetype": "text/x-python",
   "name": "python",
   "nbconvert_exporter": "python",
   "pygments_lexer": "ipython3",
   "version": "3.9.13"
  }
 },
 "nbformat": 4,
 "nbformat_minor": 5
}
